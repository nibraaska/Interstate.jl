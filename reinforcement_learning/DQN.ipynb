{
 "cells": [
  {
   "cell_type": "code",
   "execution_count": null,
   "id": "b22b81a9",
   "metadata": {},
   "outputs": [],
   "source": [
    "using Statistics\n",
    "using DataStructures: CircularDeque\n",
    "using Flux, Flux.Optimise\n",
    "using Images.ImageCore\n",
    "using Flux: onehotbatch, onecold, crossentropy, Momentum, params, ADAM\n",
    "using Flux: loadmodel!\n",
    "using Base.Iterators: partition\n",
    "using CUDA\n",
    "using StatsBase: sample\n",
    "using BSON: @save, @load\n",
    "using Plots;"
   ]
  },
  {
   "cell_type": "code",
   "execution_count": null,
   "id": "ec183c66",
   "metadata": {},
   "outputs": [],
   "source": [
    "MAX_REPLAY_MEMORY_SIZE = 1000\n",
    "MINIBATCH_SIZE = 100\n",
    "DISCOUNT = 0.9\n",
    "UPDATE_TARGET_EVERY = 10"
   ]
  },
  {
   "cell_type": "code",
   "execution_count": null,
   "id": "af68733d",
   "metadata": {},
   "outputs": [],
   "source": [
    "mutable struct Memory\n",
    "    sₜ\n",
    "    aₜ\n",
    "    rₙ\n",
    "    sₙ\n",
    "    done\n",
    "end"
   ]
  },
  {
   "cell_type": "code",
   "execution_count": null,
   "id": "86789dc5",
   "metadata": {},
   "outputs": [],
   "source": [
    "function model()\n",
    "    m = Chain(\n",
    "        Dense(550, 256),\n",
    "        σ,\n",
    "        Dense(256, 128),\n",
    "        σ,\n",
    "        Dense(128, 64),\n",
    "        σ,\n",
    "        Dense(64, 4),\n",
    "        softmax\n",
    "    )\n",
    "    if isfile(\"mymodel.bson\")\n",
    "        @load \"mymodel.bson\" m\n",
    "    end\n",
    "    m\n",
    "end"
   ]
  },
  {
   "cell_type": "code",
   "execution_count": null,
   "id": "fa4a040a",
   "metadata": {},
   "outputs": [],
   "source": [
    "function update_memory!(mem::Memory, replay_mem::Array{Memory})\n",
    "    if length(replay_mem) < MAX_REPLAY_MEMORY_SIZE \n",
    "        push!(replay_mem, mem)\n",
    "    else\n",
    "        popfirst!(replay_mem)\n",
    "        push!(replay_mem, mem)\n",
    "    end\n",
    "end"
   ]
  },
  {
   "cell_type": "code",
   "execution_count": null,
   "id": "842bdaf3",
   "metadata": {},
   "outputs": [],
   "source": [
    "function update_weights!(target_model, main_model)\n",
    "    for (main_param, target_param) in zip(params(main_model), params(target_model))\n",
    "        target_param .= main_param\n",
    "    end\n",
    "end"
   ]
  },
  {
   "cell_type": "code",
   "execution_count": null,
   "id": "6825e495",
   "metadata": {},
   "outputs": [],
   "source": [
    "loss(x, y) = Flux.Losses.mse(main_model(x), y)\n",
    "opt = ADAM()\n",
    "\n",
    "function train!(replay_mem::Array{Memory}, main_model, target_model, terminal_state, target_update_counter)\n",
    "    minibatch = sample(replay_memory, MINIBATCH_SIZE, replace=false)\n",
    "\n",
    "    current_states = hcat((transition.sₜ for transition in minibatch)...)\n",
    "    current_qs_list = main_model(current_states)\n",
    "    \n",
    "    new_current_states = hcat((transition.sₙ for transition in minibatch)...)\n",
    "    future_qs_list = target_model(new_current_states)\n",
    "    X = []\n",
    "    y = []\n",
    "    for (i, data_point) in enumerate(minibatch)\n",
    "        println(\"here\")\n",
    "        sₜ, aₜ, rₙ, sₙ, done = data_point.sₜ, data_point.aₜ, data_point.rₙ, data_point.sₙ, data_point.done\n",
    "        if done\n",
    "            new_q = rₙ\n",
    "        else\n",
    "            new_q = rₙ + DISCOUNT * maximum(future_qs_list[:,i])\n",
    "        end\n",
    "        current_qs = current_qs_list[:,i]\n",
    "        current_qs[aₜ,:] .= new_q\n",
    "        push!(X, sₜ)\n",
    "        push!(y, current_qs)\n",
    "    end\n",
    "    \n",
    "    X = hcat((X)...);\n",
    "    y = hcat((y)...);\n",
    "    \n",
    "    ps = Flux.params(main_model);\n",
    "    data = Flux.Data.DataLoader((X, y),shuffle=true);\n",
    "    Flux.train!(loss, ps, data, opt)\n",
    "\n",
    "    if terminal_state\n",
    "        target_update_counter += 1\n",
    "    end\n",
    "\n",
    "    if target_update_counter > UPDATE_TARGET_EVERY\n",
    "        update_weights!(target_model, main_model)\n",
    "        target_update_counter = 0\n",
    "    end\n",
    "\n",
    "end"
   ]
  },
  {
   "cell_type": "code",
   "execution_count": null,
   "id": "8690eb91",
   "metadata": {},
   "outputs": [],
   "source": [
    "main_model = model() |> gpu\n",
    "target_model = model() |> gpu;\n",
    "update_weights!(target_model, main_model);"
   ]
  },
  {
   "cell_type": "code",
   "execution_count": null,
   "id": "1b441e47",
   "metadata": {},
   "outputs": [],
   "source": [
    "replay_memory = Memory[]"
   ]
  },
  {
   "cell_type": "code",
   "execution_count": null,
   "id": "91c7715e",
   "metadata": {},
   "outputs": [],
   "source": [
    "target_update_counter = 0"
   ]
  },
  {
   "cell_type": "code",
   "execution_count": null,
   "id": "722ecb30",
   "metadata": {},
   "outputs": [],
   "source": [
    "for i in 1:1000\n",
    "    update_memory!(Memory(rand(550, 1) |> gpu, rand(1:4) |> gpu, rand(-10:10) |> gpu, rand(550, 1) |> gpu, false |> gpu), replay_memory)\n",
    "end"
   ]
  },
  {
   "cell_type": "code",
   "execution_count": null,
   "id": "b5422920",
   "metadata": {},
   "outputs": [],
   "source": [
    "length(replay_memory)"
   ]
  },
  {
   "cell_type": "code",
   "execution_count": null,
   "id": "263d8a83",
   "metadata": {},
   "outputs": [],
   "source": []
  },
  {
   "cell_type": "code",
   "execution_count": null,
   "id": "de96fd7c",
   "metadata": {},
   "outputs": [],
   "source": []
  },
  {
   "cell_type": "code",
   "execution_count": null,
   "id": "53b978dc",
   "metadata": {},
   "outputs": [],
   "source": []
  },
  {
   "cell_type": "code",
   "execution_count": null,
   "id": "e013b6a2",
   "metadata": {},
   "outputs": [],
   "source": []
  },
  {
   "cell_type": "code",
   "execution_count": null,
   "id": "0a576cc6",
   "metadata": {},
   "outputs": [],
   "source": []
  },
  {
   "cell_type": "code",
   "execution_count": null,
   "id": "1b293253",
   "metadata": {},
   "outputs": [],
   "source": [
    "minibatch = sample(replay_memory, MINIBATCH_SIZE, replace=false);"
   ]
  },
  {
   "cell_type": "code",
   "execution_count": null,
   "id": "17a669b2",
   "metadata": {},
   "outputs": [],
   "source": [
    "replay_memory[length(replay_memory)].done = true"
   ]
  },
  {
   "cell_type": "code",
   "execution_count": null,
   "id": "df65adea",
   "metadata": {},
   "outputs": [],
   "source": [
    "minibatch[MINIBATCH_SIZE] = replay_memory[length(replay_memory)]"
   ]
  },
  {
   "cell_type": "code",
   "execution_count": null,
   "id": "edd3a5c7",
   "metadata": {},
   "outputs": [],
   "source": [
    "minibatch"
   ]
  },
  {
   "cell_type": "code",
   "execution_count": null,
   "id": "4d36c302",
   "metadata": {},
   "outputs": [],
   "source": []
  }
 ],
 "metadata": {
  "kernelspec": {
   "display_name": "Julia 1.7.2",
   "language": "julia",
   "name": "julia-1.7"
  },
  "language_info": {
   "file_extension": ".jl",
   "mimetype": "application/julia",
   "name": "julia",
   "version": "1.7.2"
  }
 },
 "nbformat": 4,
 "nbformat_minor": 5
}
