{
 "cells": [
  {
   "cell_type": "code",
   "execution_count": 1,
   "id": "b22b81a9",
   "metadata": {},
   "outputs": [
    {
     "name": "stderr",
     "output_type": "stream",
     "text": [
      "WARNING: using JLD2.@load in module Main conflicts with an existing identifier.\n",
      "\n",
      "(process:24596): GLib-GIO-WARNING **: 15:21:58.857: Unexpectedly, UWP app `Microsoft.ZuneMusic_10.22031.10091.0_x64__8wekyb3d8bbwe' (AUMId `Microsoft.ZuneMusic_8wekyb3d8bbwe!Microsoft.ZuneMusic') supports 20 extensions but has no verbs\n",
      "WARNING: using JLD2.@save in module Main conflicts with an existing identifier.\n"
     ]
    }
   ],
   "source": [
    "using Statistics\n",
    "using DataStructures: CircularDeque\n",
    "using Flux, Flux.Optimise\n",
    "using Images.ImageCore\n",
    "using Flux: onehotbatch, onecold, crossentropy, Momentum, params, ADAM\n",
    "using Flux: loadmodel!\n",
    "using Base.Iterators: partition\n",
    "using CUDA\n",
    "using StatsBase: sample\n",
    "using BSON: @save, @load\n",
    "using JLD2\n",
    "using Serialization\n",
    "using Plots;"
   ]
  },
  {
   "cell_type": "code",
   "execution_count": 2,
   "id": "ec183c66",
   "metadata": {},
   "outputs": [
    {
     "data": {
      "text/plain": [
       "10"
      ]
     },
     "metadata": {},
     "output_type": "display_data"
    }
   ],
   "source": [
    "MAX_REPLAY_MEMORY_SIZE = 1000\n",
    "MINIBATCH_SIZE = 100\n",
    "DISCOUNT = 0.9\n",
    "UPDATE_TARGET_EVERY = 10"
   ]
  },
  {
   "cell_type": "code",
   "execution_count": 3,
   "id": "af68733d",
   "metadata": {},
   "outputs": [],
   "source": [
    "mutable struct Memory\n",
    "    sₜ\n",
    "    aₜ\n",
    "    rₙ\n",
    "    sₙ\n",
    "    done\n",
    "end"
   ]
  },
  {
   "cell_type": "code",
   "execution_count": 4,
   "id": "86789dc5",
   "metadata": {},
   "outputs": [
    {
     "data": {
      "text/plain": [
       "model (generic function with 1 method)"
      ]
     },
     "metadata": {},
     "output_type": "display_data"
    }
   ],
   "source": [
    "function model()\n",
    "    m = Chain(\n",
    "        Dense(550, 256),\n",
    "        σ,\n",
    "        Dense(256, 128),\n",
    "        σ,\n",
    "        Dense(128, 64),\n",
    "        σ,\n",
    "        Dense(64, 4),\n",
    "        softmax\n",
    "    )\n",
    "    if isfile(\"mymodel.bson\")\n",
    "        @load \"mymodel.bson\" m\n",
    "    end\n",
    "    m\n",
    "end"
   ]
  },
  {
   "cell_type": "code",
   "execution_count": 5,
   "id": "fa4a040a",
   "metadata": {},
   "outputs": [
    {
     "data": {
      "text/plain": [
       "update_memory! (generic function with 1 method)"
      ]
     },
     "metadata": {},
     "output_type": "display_data"
    }
   ],
   "source": [
    "function update_memory!(mem::Memory, replay_mem::Array{Memory})\n",
    "    if length(replay_mem) < MAX_REPLAY_MEMORY_SIZE \n",
    "        push!(replay_mem, mem)\n",
    "    else\n",
    "        popfirst!(replay_mem)\n",
    "        push!(replay_mem, mem)\n",
    "    end\n",
    "end"
   ]
  },
  {
   "cell_type": "code",
   "execution_count": 6,
   "id": "842bdaf3",
   "metadata": {},
   "outputs": [
    {
     "data": {
      "text/plain": [
       "update_weights! (generic function with 1 method)"
      ]
     },
     "metadata": {},
     "output_type": "display_data"
    }
   ],
   "source": [
    "function update_weights!(target_model, main_model)\n",
    "    for (main_param, target_param) in zip(params(main_model), params(target_model))\n",
    "        target_param .= main_param\n",
    "    end\n",
    "end"
   ]
  },
  {
   "cell_type": "code",
   "execution_count": 7,
   "id": "6825e495",
   "metadata": {},
   "outputs": [
    {
     "data": {
      "text/plain": [
       "train! (generic function with 1 method)"
      ]
     },
     "metadata": {},
     "output_type": "display_data"
    }
   ],
   "source": [
    "loss(x, y) = Flux.Losses.mse(main_model(x), y)\n",
    "opt = ADAM()\n",
    "\n",
    "function train!(replay_mem::Array{Memory}, main_model, target_model, terminal_state, target_update_counter)\n",
    "    minibatch = sample(replay_memory, MINIBATCH_SIZE, replace=false)\n",
    "\n",
    "    current_states = hcat((transition.sₜ for transition in minibatch)...)\n",
    "    current_qs_list = main_model(current_states)\n",
    "    \n",
    "    new_current_states = hcat((transition.sₙ for transition in minibatch)...)\n",
    "    future_qs_list = target_model(new_current_states)\n",
    "    X = []\n",
    "    y = []\n",
    "    for (i, data_point) in enumerate(minibatch)\n",
    "        println(\"here\")\n",
    "        sₜ, aₜ, rₙ, sₙ, done = data_point.sₜ, data_point.aₜ, data_point.rₙ, data_point.sₙ, data_point.done\n",
    "        if done\n",
    "            new_q = rₙ\n",
    "        else\n",
    "            new_q = rₙ + DISCOUNT * maximum(future_qs_list[:,i])\n",
    "        end\n",
    "        current_qs = current_qs_list[:,i]\n",
    "        current_qs[aₜ,:] .= new_q\n",
    "        push!(X, sₜ)\n",
    "        push!(y, current_qs)\n",
    "    end\n",
    "    \n",
    "    X = hcat((X)...);\n",
    "    y = hcat((y)...);\n",
    "    \n",
    "    ps = Flux.params(main_model);\n",
    "    data = Flux.Data.DataLoader((X, y),shuffle=true);\n",
    "    Flux.train!(loss, ps, data, opt)\n",
    "\n",
    "    if terminal_state\n",
    "        target_update_counter += 1\n",
    "    end\n",
    "\n",
    "    if target_update_counter > UPDATE_TARGET_EVERY\n",
    "        update_weights!(target_model, main_model)\n",
    "        target_update_counter = 0\n",
    "    end\n",
    "\n",
    "end"
   ]
  },
  {
   "cell_type": "code",
   "execution_count": 8,
   "id": "8690eb91",
   "metadata": {},
   "outputs": [],
   "source": [
    "main_model = model() |> gpu\n",
    "target_model = model() |> gpu;\n",
    "update_weights!(target_model, main_model);"
   ]
  },
  {
   "cell_type": "code",
   "execution_count": null,
   "id": "1b441e47",
   "metadata": {},
   "outputs": [],
   "source": [
    "replay_memory = Memory[]"
   ]
  },
  {
   "cell_type": "code",
   "execution_count": null,
   "id": "91c7715e",
   "metadata": {},
   "outputs": [],
   "source": [
    "target_update_counter = 0"
   ]
  },
  {
   "cell_type": "code",
   "execution_count": null,
   "id": "722ecb30",
   "metadata": {},
   "outputs": [],
   "source": [
    "for i in 1:1000\n",
    "    update_memory!(Memory(rand(550, 1) |> gpu, rand(1:4) |> gpu, rand(-10:10) |> gpu, rand(550, 1) |> gpu, false |> gpu), replay_memory)\n",
    "end"
   ]
  },
  {
   "cell_type": "code",
   "execution_count": null,
   "id": "b5422920",
   "metadata": {},
   "outputs": [],
   "source": [
    "length(replay_memory)"
   ]
  },
  {
   "cell_type": "code",
   "execution_count": null,
   "id": "515c5640",
   "metadata": {},
   "outputs": [],
   "source": [
    "iteration = 100"
   ]
  },
  {
   "cell_type": "code",
   "execution_count": null,
   "id": "263d8a83",
   "metadata": {},
   "outputs": [],
   "source": [
    "serialize(\"replay_memory_$iteration.dat\", replay_memory)"
   ]
  },
  {
   "cell_type": "code",
   "execution_count": 9,
   "id": "de96fd7c",
   "metadata": {},
   "outputs": [
    {
     "ename": "KeyError",
     "evalue": "KeyError: key Interstate [d1dc07d0-456e-4a45-b97a-3837634689d3] not found",
     "output_type": "error",
     "traceback": [
      "KeyError: key Interstate [d1dc07d0-456e-4a45-b97a-3837634689d3] not found\n",
      "\n",
      "Stacktrace:\n",
      "  [1] getindex\n",
      "    @ .\\dict.jl:481 [inlined]\n",
      "  [2] root_module\n",
      "    @ .\\loading.jl:1056 [inlined]\n",
      "  [3] deserialize_module(s::Serializer{IOStream})\n",
      "    @ Serialization C:\\Users\\khanna4\\AppData\\Local\\Programs\\Julia-1.7.2\\share\\julia\\stdlib\\v1.7\\Serialization\\src\\Serialization.jl:981\n",
      "  [4] handle_deserialize(s::Serializer{IOStream}, b::Int32)\n",
      "    @ Serialization C:\\Users\\khanna4\\AppData\\Local\\Programs\\Julia-1.7.2\\share\\julia\\stdlib\\v1.7\\Serialization\\src\\Serialization.jl:883\n",
      "  [5] deserialize(s::Serializer{IOStream})\n",
      "    @ Serialization C:\\Users\\khanna4\\AppData\\Local\\Programs\\Julia-1.7.2\\share\\julia\\stdlib\\v1.7\\Serialization\\src\\Serialization.jl:801\n",
      "  [6] deserialize_datatype(s::Serializer{IOStream}, full::Bool)\n",
      "    @ Serialization C:\\Users\\khanna4\\AppData\\Local\\Programs\\Julia-1.7.2\\share\\julia\\stdlib\\v1.7\\Serialization\\src\\Serialization.jl:1331\n",
      "  [7] handle_deserialize(s::Serializer{IOStream}, b::Int32)\n",
      "    @ Serialization C:\\Users\\khanna4\\AppData\\Local\\Programs\\Julia-1.7.2\\share\\julia\\stdlib\\v1.7\\Serialization\\src\\Serialization.jl:854\n",
      "  [8] deserialize(s::Serializer{IOStream})\n",
      "    @ Serialization C:\\Users\\khanna4\\AppData\\Local\\Programs\\Julia-1.7.2\\share\\julia\\stdlib\\v1.7\\Serialization\\src\\Serialization.jl:801\n",
      "  [9] deserialize_array(s::Serializer{IOStream})\n",
      "    @ Serialization C:\\Users\\khanna4\\AppData\\Local\\Programs\\Julia-1.7.2\\share\\julia\\stdlib\\v1.7\\Serialization\\src\\Serialization.jl:1179\n",
      " [10] handle_deserialize(s::Serializer{IOStream}, b::Int32)\n",
      "    @ Serialization C:\\Users\\khanna4\\AppData\\Local\\Programs\\Julia-1.7.2\\share\\julia\\stdlib\\v1.7\\Serialization\\src\\Serialization.jl:852\n",
      " [11] deserialize(s::Serializer{IOStream})\n",
      "    @ Serialization C:\\Users\\khanna4\\AppData\\Local\\Programs\\Julia-1.7.2\\share\\julia\\stdlib\\v1.7\\Serialization\\src\\Serialization.jl:801\n",
      " [12] handle_deserialize(s::Serializer{IOStream}, b::Int32)\n",
      "    @ Serialization C:\\Users\\khanna4\\AppData\\Local\\Programs\\Julia-1.7.2\\share\\julia\\stdlib\\v1.7\\Serialization\\src\\Serialization.jl:907\n",
      " [13] deserialize\n",
      "    @ C:\\Users\\khanna4\\AppData\\Local\\Programs\\Julia-1.7.2\\share\\julia\\stdlib\\v1.7\\Serialization\\src\\Serialization.jl:801 [inlined]\n",
      " [14] deserialize(s::IOStream)\n",
      "    @ Serialization C:\\Users\\khanna4\\AppData\\Local\\Programs\\Julia-1.7.2\\share\\julia\\stdlib\\v1.7\\Serialization\\src\\Serialization.jl:788\n",
      " [15] open(f::typeof(deserialize), args::String; kwargs::Base.Pairs{Symbol, Union{}, Tuple{}, NamedTuple{(), Tuple{}}})\n",
      "    @ Base .\\io.jl:330\n",
      " [16] open\n",
      "    @ .\\io.jl:328 [inlined]\n",
      " [17] deserialize(filename::String)\n",
      "    @ Serialization C:\\Users\\khanna4\\AppData\\Local\\Programs\\Julia-1.7.2\\share\\julia\\stdlib\\v1.7\\Serialization\\src\\Serialization.jl:798\n",
      " [18] top-level scope\n",
      "    @ c:\\Users\\khanna4\\Coding\\Interstate.jl\\reinforcement_learning\\DQN.ipynb:1\n",
      " [19] eval\n",
      "    @ .\\boot.jl:373 [inlined]\n",
      " [20] include_string(mapexpr::typeof(REPL.softscope), mod::Module, code::String, filename::String)\n",
      "    @ Base .\\loading.jl:1196\n",
      " [21] #invokelatest#2\n",
      "    @ .\\essentials.jl:716 [inlined]\n",
      " [22] invokelatest\n",
      "    @ .\\essentials.jl:714 [inlined]\n",
      " [23] (::VSCodeServer.var\"#164#165\"{VSCodeServer.NotebookRunCellArguments, String})()\n",
      "    @ VSCodeServer c:\\Users\\khanna4\\.vscode\\extensions\\julialang.language-julia-1.6.17\\scripts\\packages\\VSCodeServer\\src\\serve_notebook.jl:19\n",
      " [24] withpath(f::VSCodeServer.var\"#164#165\"{VSCodeServer.NotebookRunCellArguments, String}, path::String)\n",
      "    @ VSCodeServer c:\\Users\\khanna4\\.vscode\\extensions\\julialang.language-julia-1.6.17\\scripts\\packages\\VSCodeServer\\src\\repl.jl:184\n",
      " [25] notebook_runcell_request(conn::VSCodeServer.JSONRPC.JSONRPCEndpoint{Base.PipeEndpoint, Base.PipeEndpoint}, params::VSCodeServer.NotebookRunCellArguments)\n",
      "    @ VSCodeServer c:\\Users\\khanna4\\.vscode\\extensions\\julialang.language-julia-1.6.17\\scripts\\packages\\VSCodeServer\\src\\serve_notebook.jl:13\n",
      " [26] dispatch_msg(x::VSCodeServer.JSONRPC.JSONRPCEndpoint{Base.PipeEndpoint, Base.PipeEndpoint}, dispatcher::VSCodeServer.JSONRPC.MsgDispatcher, msg::Dict{String, Any})\n",
      "    @ VSCodeServer.JSONRPC c:\\Users\\khanna4\\.vscode\\extensions\\julialang.language-julia-1.6.17\\scripts\\packages\\JSONRPC\\src\\typed.jl:67\n",
      " [27] serve_notebook(pipename::String, outputchannel_logger::Base.CoreLogging.SimpleLogger; crashreporting_pipename::String)\n",
      "    @ VSCodeServer c:\\Users\\khanna4\\.vscode\\extensions\\julialang.language-julia-1.6.17\\scripts\\packages\\VSCodeServer\\src\\serve_notebook.jl:136\n",
      " [28] top-level scope\n",
      "    @ c:\\Users\\khanna4\\.vscode\\extensions\\julialang.language-julia-1.6.17\\scripts\\notebook\\notebook.jl:32\n",
      " [29] include(mod::Module, _path::String)\n",
      "    @ Base .\\Base.jl:418\n",
      " [30] exec_options(opts::Base.JLOptions)\n",
      "    @ Base .\\client.jl:292\n",
      " [31] _start()\n",
      "    @ Base .\\client.jl:495"
     ]
    }
   ],
   "source": [
    "deserialize(\"replay_memory_10.dat\")"
   ]
  },
  {
   "cell_type": "code",
   "execution_count": null,
   "id": "53b978dc",
   "metadata": {},
   "outputs": [],
   "source": []
  },
  {
   "cell_type": "code",
   "execution_count": null,
   "id": "e013b6a2",
   "metadata": {},
   "outputs": [],
   "source": []
  },
  {
   "cell_type": "code",
   "execution_count": null,
   "id": "0a576cc6",
   "metadata": {},
   "outputs": [],
   "source": []
  },
  {
   "cell_type": "code",
   "execution_count": null,
   "id": "1b293253",
   "metadata": {},
   "outputs": [],
   "source": [
    "minibatch = sample(replay_memory, MINIBATCH_SIZE, replace=false);"
   ]
  },
  {
   "cell_type": "code",
   "execution_count": null,
   "id": "17a669b2",
   "metadata": {},
   "outputs": [],
   "source": [
    "replay_memory[length(replay_memory)].done = true"
   ]
  },
  {
   "cell_type": "code",
   "execution_count": null,
   "id": "df65adea",
   "metadata": {},
   "outputs": [],
   "source": [
    "minibatch[MINIBATCH_SIZE] = replay_memory[length(replay_memory)]"
   ]
  },
  {
   "cell_type": "code",
   "execution_count": null,
   "id": "edd3a5c7",
   "metadata": {},
   "outputs": [],
   "source": [
    "minibatch"
   ]
  },
  {
   "cell_type": "code",
   "execution_count": null,
   "id": "4d36c302",
   "metadata": {},
   "outputs": [],
   "source": []
  },
  {
   "cell_type": "code",
   "execution_count": null,
   "id": "0fa5ded3",
   "metadata": {},
   "outputs": [],
   "source": []
  }
 ],
 "metadata": {
  "kernelspec": {
   "display_name": "Julia 1.7.2",
   "language": "julia",
   "name": "julia-1.7"
  },
  "language_info": {
   "file_extension": ".jl",
   "mimetype": "application/julia",
   "name": "julia",
   "version": "1.7.2"
  }
 },
 "nbformat": 4,
 "nbformat_minor": 5
}
