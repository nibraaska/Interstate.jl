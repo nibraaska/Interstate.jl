{
 "cells": [
  {
   "cell_type": "code",
   "execution_count": 15,
   "id": "b22b81a9",
   "metadata": {},
   "outputs": [],
   "source": [
    "using Statistics\n",
    "using DataStructures: CircularDeque\n",
    "using Flux, Flux.Optimise\n",
    "using Images.ImageCore\n",
    "using Flux: onehotbatch, onecold, crossentropy, Momentum, params, ADAM\n",
    "using Flux: loadmodel!\n",
    "using Base.Iterators: partition\n",
    "using CUDA\n",
    "using StatsBase: sample\n",
    "using Plots;"
   ]
  },
  {
   "cell_type": "code",
   "execution_count": 2,
   "id": "ec183c66",
   "metadata": {},
   "outputs": [
    {
     "data": {
      "text/plain": [
       "0.9"
      ]
     },
     "metadata": {},
     "output_type": "display_data"
    }
   ],
   "source": [
    "MAX_REPLAY_MEMORY_SIZE = 1000\n",
    "MINIBATCH_SIZE = 10\n",
    "DISCOUNT = 0.9\n",
    "UPDATE_TARGET_EVERY = 10"
   ]
  },
  {
   "cell_type": "code",
   "execution_count": 3,
   "id": "af68733d",
   "metadata": {},
   "outputs": [],
   "source": [
    "struct Memory\n",
    "    sₜ\n",
    "    aₜ\n",
    "    rₙ\n",
    "    sₙ\n",
    "    done\n",
    "end"
   ]
  },
  {
   "cell_type": "code",
   "execution_count": 4,
   "id": "86789dc5",
   "metadata": {},
   "outputs": [
    {
     "data": {
      "text/plain": [
       "model (generic function with 1 method)"
      ]
     },
     "metadata": {},
     "output_type": "display_data"
    }
   ],
   "source": [
    "function model()\n",
    "    Chain(\n",
    "        Dense(10, 120),\n",
    "        Dense(120, 84),\n",
    "        Dense(84, 5),\n",
    "    softmax)\n",
    "end"
   ]
  },
  {
   "cell_type": "code",
   "execution_count": 5,
   "id": "fa4a040a",
   "metadata": {},
   "outputs": [
    {
     "data": {
      "text/plain": [
       "update_memory! (generic function with 1 method)"
      ]
     },
     "metadata": {},
     "output_type": "display_data"
    }
   ],
   "source": [
    "function update_memory!(mem::Memory, replay_mem::Array{Memory})\n",
    "    if length(replay_mem) < MAX_REPLAY_MEMORY_SIZE \n",
    "        push!(replay_mem, mem)\n",
    "    else\n",
    "        popfirst!(replay_mem)\n",
    "        push!(replay_mem, mem)\n",
    "    end\n",
    "end"
   ]
  },
  {
   "cell_type": "code",
   "execution_count": 6,
   "id": "6825e495",
   "metadata": {},
   "outputs": [
    {
     "data": {
      "text/plain": [
       "train! (generic function with 1 method)"
      ]
     },
     "metadata": {},
     "output_type": "display_data"
    }
   ],
   "source": [
    "loss(x, y) = Flux.Losses.mse(m(x), y)\n",
    "opt = ADAM()\n",
    "\n",
    "function train!(replay_mem::Array{Memory}, main_model, target_model, terminal_state, target_update_counter)\n",
    "    minibatch = sample(replay_memory, MINIBATCH_SIZE, replace=false)\n",
    "    current_states = [transition.sₜ for transition in minibatch] |> gpu\n",
    "    current_qs_list = main_model(current_states)\n",
    "\n",
    "    new_current_states = [transition.sₙ for transition in minibatch] |> gpu\n",
    "    future_qs_list = target_model(new_current_states)\n",
    "\n",
    "    X = []\n",
    "    y = []\n",
    "    for (i, data_point) in enumerate(minibatch)\n",
    "        sₜ, aₜ, rₙ, sₙ, done = data_point.sₜ, data_point.aₜ, data_point.rₙ, data_point.sₙ, data_point.done\n",
    "        if done\n",
    "            new_q = rₙ\n",
    "        else\n",
    "            new_q = rₙ + DISCOUNT * maximum(future_qs_list[i])\n",
    "        end\n",
    "\n",
    "        current_qs = current_qs_list[i]\n",
    "        current_qs[action] = new_q\n",
    "\n",
    "        push!(X, current_state)\n",
    "        push!(y, current_qs)\n",
    "    end\n",
    "\n",
    "    ps = Flux.params(m)\n",
    "    data = Flux.Data.DataLoader((X, Y),shuffle=true);\n",
    "    Flux.train!(loss, ps, data, opt)\n",
    "\n",
    "    if terminal_state\n",
    "        target_update_counter += 1\n",
    "    end\n",
    "\n",
    "    if target_update_counter > UPDATE_TARGET_EVERY\n",
    "        target_model = Flux.loadmodel!(target_model, main_model);\n",
    "        target_update_counter = 0\n",
    "    end\n",
    "\n",
    "end"
   ]
  },
  {
   "cell_type": "code",
   "execution_count": 7,
   "id": "8690eb91",
   "metadata": {},
   "outputs": [],
   "source": [
    "main_model = model() |> gpu\n",
    "target_model = model() |> gpu;\n",
    "target_model = Flux.loadmodel!(target_model, main_model);"
   ]
  },
  {
   "cell_type": "code",
   "execution_count": 8,
   "id": "1b441e47",
   "metadata": {},
   "outputs": [
    {
     "data": {
      "text/plain": [
       "Memory[]"
      ]
     },
     "metadata": {},
     "output_type": "display_data"
    }
   ],
   "source": [
    "replay_memory = Memory[]"
   ]
  },
  {
   "cell_type": "code",
   "execution_count": 10,
   "id": "91c7715e",
   "metadata": {},
   "outputs": [
    {
     "data": {
      "text/plain": [
       "0"
      ]
     },
     "metadata": {},
     "output_type": "display_data"
    }
   ],
   "source": [
    "target_update_counter = 0"
   ]
  },
  {
   "cell_type": "code",
   "execution_count": 11,
   "id": "722ecb30",
   "metadata": {},
   "outputs": [],
   "source": [
    "for i in 1:1000\n",
    "    update_memory!(Memory(rand(1:1000), rand(1:1000), rand(1:1000), rand(1:1000), true), replay_memory)\n",
    "end"
   ]
  },
  {
   "cell_type": "code",
   "execution_count": 12,
   "id": "53b978dc",
   "metadata": {},
   "outputs": [
    {
     "data": {
      "text/plain": [
       "5-element CuArray{Float32, 1, CUDA.Mem.DeviceBuffer}:\n",
       " 0.0\n",
       " 0.0\n",
       " 0.0\n",
       " 0.0\n",
       " 1.0"
      ]
     },
     "metadata": {},
     "output_type": "display_data"
    }
   ],
   "source": [
    "a = train!(replay_memory, main_model, target_model) "
   ]
  },
  {
   "cell_type": "code",
   "execution_count": null,
   "id": "4c9a86cd",
   "metadata": {},
   "outputs": [],
   "source": [
    "rand(0:2)"
   ]
  },
  {
   "cell_type": "code",
   "execution_count": 16,
   "id": "daa829e4",
   "metadata": {},
   "outputs": [
    {
     "data": {
      "text/plain": [
       "ADAM(0.001, (0.9, 0.999), 1.0e-8, IdDict{Any, Any}())"
      ]
     },
     "metadata": {},
     "output_type": "display_data"
    }
   ],
   "source": []
  },
  {
   "cell_type": "code",
   "execution_count": null,
   "id": "c730fda8",
   "metadata": {},
   "outputs": [],
   "source": []
  },
  {
   "cell_type": "code",
   "execution_count": null,
   "id": "ece27cdf",
   "metadata": {},
   "outputs": [],
   "source": []
  },
  {
   "cell_type": "code",
   "execution_count": null,
   "id": "8d276814",
   "metadata": {},
   "outputs": [],
   "source": []
  },
  {
   "cell_type": "code",
   "execution_count": null,
   "id": "2ec31a38",
   "metadata": {},
   "outputs": [],
   "source": []
  },
  {
   "cell_type": "code",
   "execution_count": null,
   "id": "0875c689",
   "metadata": {},
   "outputs": [],
   "source": [
    "import Pkg; Pkg.add(\"DataStructures\")"
   ]
  },
  {
   "cell_type": "code",
   "execution_count": null,
   "id": "0e2de962",
   "metadata": {},
   "outputs": [],
   "source": []
  }
 ],
 "metadata": {
  "kernelspec": {
   "display_name": "Julia 1.7.2",
   "language": "julia",
   "name": "julia-1.7"
  },
  "language_info": {
   "file_extension": ".jl",
   "mimetype": "application/julia",
   "name": "julia",
   "version": "1.7.2"
  }
 },
 "nbformat": 4,
 "nbformat_minor": 5
}
