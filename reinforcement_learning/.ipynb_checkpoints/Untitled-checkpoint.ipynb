{
 "cells": [
  {
   "cell_type": "code",
   "execution_count": null,
   "id": "b22b81a9",
   "metadata": {},
   "outputs": [],
   "source": [
    "using Statistics\n",
    "using Flux, Flux.Optimise\n",
    "using Images.ImageCore\n",
    "using Flux: onehotbatch, onecold, crossentropy, Momentum\n",
    "using Flux: loadmodel!\n",
    "using Base.Iterators: partition\n",
    "using CUDA\n",
    "using Plots;"
   ]
  },
  {
   "cell_type": "code",
   "execution_count": null,
   "id": "8690eb91",
   "metadata": {},
   "outputs": [],
   "source": [
    "main_model = Chain(\n",
    "  Dense(10, 120),\n",
    "  Dense(120, 84),\n",
    "  Dense(84, 10),\n",
    "  softmax) |> gpu\n",
    "\n",
    "target_model = Chain(\n",
    "  Dense(10, 120),\n",
    "  Dense(120, 84),\n",
    "  Dense(84, 10),\n",
    "  softmax) |> gpu;"
   ]
  },
  {
   "cell_type": "code",
   "execution_count": null,
   "id": "1b441e47",
   "metadata": {},
   "outputs": [],
   "source": [
    "params(main_model)"
   ]
  },
  {
   "cell_type": "code",
   "execution_count": null,
   "id": "91c7715e",
   "metadata": {},
   "outputs": [],
   "source": [
    "params(target_model)"
   ]
  },
  {
   "cell_type": "code",
   "execution_count": null,
   "id": "53b978dc",
   "metadata": {},
   "outputs": [],
   "source": [
    "target_model = Flux.loadmodel!(target_model, main_model)"
   ]
  },
  {
   "cell_type": "code",
   "execution_count": null,
   "id": "daa829e4",
   "metadata": {},
   "outputs": [],
   "source": [
    "target_model"
   ]
  },
  {
   "cell_type": "code",
   "execution_count": 14,
   "id": "c730fda8",
   "metadata": {},
   "outputs": [
    {
     "ename": "LoadError",
     "evalue": "UndefVarError: loadmodel! not defined",
     "output_type": "error",
     "traceback": [
      "UndefVarError: loadmodel! not defined",
      "",
      "Stacktrace:",
      " [1] getproperty(x::Module, f::Symbol)",
      "   @ Base .\\Base.jl:35",
      " [2] top-level scope",
      "   @ In[14]:1",
      " [3] eval",
      "   @ .\\boot.jl:373 [inlined]",
      " [4] include_string(mapexpr::typeof(REPL.softscope), mod::Module, code::String, filename::String)",
      "   @ Base .\\loading.jl:1196"
     ]
    }
   ],
   "source": [
    "Flux.loadmodel!()"
   ]
  },
  {
   "cell_type": "code",
   "execution_count": 13,
   "id": "ece27cdf",
   "metadata": {},
   "outputs": [
    {
     "name": "stdout",
     "output_type": "stream",
     "text": [
      "\u001b[32m\u001b[1m      Status\u001b[22m\u001b[39m `C:\\Users\\khanna4\\Coding\\Interstate.jl\\reinforcement_learning\\Project.toml`\n",
      " \u001b[90m [587475ba] \u001b[39mFlux v0.13.0\n"
     ]
    }
   ],
   "source": [
    "Pkg.status(\"Flux\")"
   ]
  },
  {
   "cell_type": "code",
   "execution_count": null,
   "id": "8d276814",
   "metadata": {},
   "outputs": [],
   "source": []
  },
  {
   "cell_type": "code",
   "execution_count": null,
   "id": "2ec31a38",
   "metadata": {},
   "outputs": [],
   "source": []
  }
 ],
 "metadata": {
  "kernelspec": {
   "display_name": "Julia 1.7.2",
   "language": "julia",
   "name": "julia-1.7"
  },
  "language_info": {
   "file_extension": ".jl",
   "mimetype": "application/julia",
   "name": "julia",
   "version": "1.7.2"
  }
 },
 "nbformat": 4,
 "nbformat_minor": 5
}
